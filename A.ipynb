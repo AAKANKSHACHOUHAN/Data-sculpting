{
 "cells": [
  {
   "cell_type": "code",
   "execution_count": 1,
   "metadata": {},
   "outputs": [],
   "source": [
    "import numpy as np # linear algebra\n",
    "import pandas as pd # data processing, CSV file I/O (e.g. pd.read_csv)\n",
    "import re\n",
    "import requests\n",
    "from bs4 import BeautifulSoup\n",
    "\n"
   ]
  },
  {
   "cell_type": "code",
   "execution_count": 15,
   "metadata": {},
   "outputs": [
    {
     "name": "stdout",
     "output_type": "stream",
     "text": [
      "<Response [200]>\n"
     ]
    }
   ],
   "source": [
    "link = \"https://www.holidify.com/explore/\"\n",
    "P_link = requests.get(link)\n",
    "print(P_link)\n",
    "\n",
    "P_html = P_link.text\n",
    "P_soup = BeautifulSoup(P_html, \"html.parser\")"
   ]
  },
  {
   "cell_type": "code",
   "execution_count": 16,
   "metadata": {},
   "outputs": [
    {
     "name": "stdout",
     "output_type": "stream",
     "text": [
      "60\n"
     ]
    }
   ],
   "source": [
    "containers = P_soup.findAll(\"div\", {\"class\" : \"col-12 col-md-6 pr-lg-3 pl-md-3 pl-lg-0 result\"})\n",
    "print(len(containers))\n"
   ]
  },
  {
   "cell_type": "code",
   "execution_count": 17,
   "metadata": {},
   "outputs": [],
   "source": [
    "container = containers[0]\n",
    "column = ['Place','State', 'Ratings', 'About','Price', 'Attraction']\n",
    "Places = pd.DataFrame(columns = column)"
   ]
  },
  {
   "cell_type": "code",
   "execution_count": 23,
   "metadata": {},
   "outputs": [
    {
     "ename": "IndexError",
     "evalue": "list index out of range",
     "output_type": "error",
     "traceback": [
      "\u001b[0;31m---------------------------------------------------------------------------\u001b[0m",
      "\u001b[0;31mIndexError\u001b[0m                                Traceback (most recent call last)",
      "\u001b[0;32m<ipython-input-23-b79744f7266c>\u001b[0m in \u001b[0;36m<module>\u001b[0;34m()\u001b[0m\n\u001b[1;32m      1\u001b[0m \u001b[0;32mfor\u001b[0m \u001b[0mcontainer\u001b[0m \u001b[0;32min\u001b[0m \u001b[0mcontainers\u001b[0m\u001b[0;34m:\u001b[0m\u001b[0;34m\u001b[0m\u001b[0;34m\u001b[0m\u001b[0m\n\u001b[1;32m      2\u001b[0m     \u001b[0mp_name\u001b[0m \u001b[0;34m=\u001b[0m \u001b[0mcontainer\u001b[0m\u001b[0;34m.\u001b[0m\u001b[0mfindAll\u001b[0m\u001b[0;34m(\u001b[0m\u001b[0;34m\"h2\"\u001b[0m\u001b[0;34m,\u001b[0m \u001b[0;34m{\u001b[0m\u001b[0;34m\"class\"\u001b[0m\u001b[0;34m:\u001b[0m\u001b[0;34m\"card-heading\"\u001b[0m\u001b[0;34m}\u001b[0m\u001b[0;34m)\u001b[0m\u001b[0;34m\u001b[0m\u001b[0;34m\u001b[0m\u001b[0m\n\u001b[0;32m----> 3\u001b[0;31m     \u001b[0mp_nameN\u001b[0m \u001b[0;34m=\u001b[0m \u001b[0mp_name\u001b[0m\u001b[0;34m[\u001b[0m\u001b[0;36m0\u001b[0m\u001b[0;34m]\u001b[0m\u001b[0;34m.\u001b[0m\u001b[0mtext\u001b[0m\u001b[0;34m[\u001b[0m\u001b[0;36m4\u001b[0m\u001b[0;34m:\u001b[0m\u001b[0;34m]\u001b[0m\u001b[0;34m.\u001b[0m\u001b[0mstrip\u001b[0m\u001b[0;34m(\u001b[0m\u001b[0;34m)\u001b[0m\u001b[0;34m.\u001b[0m\u001b[0msplit\u001b[0m\u001b[0;34m(\u001b[0m\u001b[0;34m)\u001b[0m\u001b[0;34m\u001b[0m\u001b[0;34m\u001b[0m\u001b[0m\n\u001b[0m\u001b[1;32m      4\u001b[0m     \u001b[0;32mif\u001b[0m \u001b[0mlen\u001b[0m\u001b[0;34m(\u001b[0m\u001b[0mp_nameN\u001b[0m\u001b[0;34m)\u001b[0m \u001b[0;34m==\u001b[0m \u001b[0;36m2\u001b[0m\u001b[0;34m:\u001b[0m\u001b[0;34m\u001b[0m\u001b[0;34m\u001b[0m\u001b[0m\n\u001b[1;32m      5\u001b[0m           \u001b[0mp_nameP\u001b[0m \u001b[0;34m=\u001b[0m \u001b[0mp_nameN\u001b[0m\u001b[0;34m[\u001b[0m\u001b[0;36m0\u001b[0m\u001b[0;34m]\u001b[0m\u001b[0;34m\u001b[0m\u001b[0;34m\u001b[0m\u001b[0m\n",
      "\u001b[0;31mIndexError\u001b[0m: list index out of range"
     ]
    }
   ],
   "source": [
    "for container in containers:\n",
    "    p_name = container.findAll(\"h2\", {\"class\":\"card-heading\"})\n",
    "    p_nameN = p_name[0].text[4:].strip().split()\n",
    "    if len(p_nameN) == 2:        \n",
    "          p_nameP = p_nameN[0]\n",
    "          p_nameP = p_nameP.replace(',','')\n",
    "          p_nameC = p_nameN[1]\n",
    "    elif len(p_nameN) == 3:\n",
    "          p_nameP = p_nameN[0]\n",
    "          p_nameP = p_nameP.replace(',','')\n",
    "          p_nameC = p_nameN[1] + \" \" + p_nameN[2]\n",
    "    elif len(p_nameN) == 4:\n",
    "          p_nameP = p_nameN[0]\n",
    "          p_nameP = p_nameP.replace(',','')\n",
    "          p_nameC = p_nameN[1] + \" \" + p_nameN[2] + \" \" + p_nameN[3]      \n",
    "    else:\n",
    "          p_nameP = p_nameN[0]\n",
    "          p_nameC = \"NaN\"\n",
    "    p_rating = container.findAll(\"span\", {\"class\" : \"rating-badge\"})\n",
    "    p_rating = p_rating[0].text[1:4]\n",
    "    p_about = container.findAll(\"p\",{\"class\": \"card-text\"})\n",
    "    p_about = p_about[0].text\n",
    "    p_price = container.findAll(\"p\",{\"class\": \"collection-cta\"})\n",
    "    if len(p_price) == 1:\n",
    "        p_num = p_price[0].text.replace(',','')\n",
    "        p_numb = re.findall(r'\\d+', p_num)\n",
    "        num = \"\"\n",
    "        for i in p_numb:\n",
    "            num += i\n",
    "    else:\n",
    "        num = \"NaN\"\n",
    "    p_attraction = container.findAll(\"div\", {\"class\":\"content-card-footer\"})\n",
    "    p_attraction = p_attraction[0].text[:-12].strip()\n",
    "    \n",
    "    Data = pd.DataFrame([[p_nameP ,p_nameC, p_rating , p_about, num , p_attraction]])\n",
    "    Data.columns = column\n",
    "    Places = Places.append(Data, ignore_index = True)"
   ]
  },
  {
   "cell_type": "code",
   "execution_count": 24,
   "metadata": {},
   "outputs": [
    {
     "name": "stdout",
     "output_type": "stream",
     "text": [
      "Empty DataFrame\n",
      "Columns: [Place, State, Ratings, About, Price, Attraction]\n",
      "Index: []\n"
     ]
    }
   ],
   "source": [
    "print(Places.head())\n"
   ]
  },
  {
   "cell_type": "code",
   "execution_count": 25,
   "metadata": {},
   "outputs": [],
   "source": [
    "Places.to_csv(\"Places.csv\", index = None)"
   ]
  },
  {
   "cell_type": "code",
   "execution_count": null,
   "metadata": {},
   "outputs": [],
   "source": []
  }
 ],
 "metadata": {
  "kernelspec": {
   "display_name": "Python 3",
   "language": "python",
   "name": "python3"
  },
  "language_info": {
   "codemirror_mode": {
    "name": "ipython",
    "version": 3
   },
   "file_extension": ".py",
   "mimetype": "text/x-python",
   "name": "python",
   "nbconvert_exporter": "python",
   "pygments_lexer": "ipython3",
   "version": "3.6.8"
  }
 },
 "nbformat": 4,
 "nbformat_minor": 2
}
